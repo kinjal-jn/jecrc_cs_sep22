{
 "cells": [
  {
   "cell_type": "code",
   "execution_count": 1,
   "id": "dc986a92-c3ea-4d6a-9c34-1279a0afbe7e",
   "metadata": {},
   "outputs": [
    {
     "data": {
      "text/plain": [
       "7"
      ]
     },
     "execution_count": 1,
     "metadata": {},
     "output_type": "execute_result"
    }
   ],
   "source": [
    "3+4"
   ]
  },
  {
   "cell_type": "code",
   "execution_count": 2,
   "id": "34d4f674-831f-4b15-9626-0b319e7c3caf",
   "metadata": {},
   "outputs": [
    {
     "name": "stdout",
     "output_type": "stream",
     "text": [
      "Welcome to Machine Learning\n"
     ]
    }
   ],
   "source": [
    "print('Welcome to Machine Learning')"
   ]
  },
  {
   "cell_type": "markdown",
   "id": "403c43ff-1cf8-4d43-bc8d-5568b8de3582",
   "metadata": {},
   "source": [
    "#1st Heading"
   ]
  },
  {
   "cell_type": "markdown",
   "id": "c3406e94-e11b-491d-b8c0-b57c07a3fc85",
   "metadata": {},
   "source": [
    "#1st Heading"
   ]
  },
  {
   "cell_type": "markdown",
   "id": "13a8077c-4635-443b-90ec-6e44e6759a1a",
   "metadata": {},
   "source": [
    "# 1st Heading"
   ]
  },
  {
   "cell_type": "markdown",
   "id": "caf0059c-6597-4bcc-aeea-6367b36436b0",
   "metadata": {},
   "source": [
    "# 2nd Heading"
   ]
  },
  {
   "cell_type": "markdown",
   "id": "ff979017-c343-47a5-9cd8-da7729ef0a33",
   "metadata": {
    "tags": []
   },
   "source": [
    "###### Heading"
   ]
  },
  {
   "cell_type": "markdown",
   "id": "4cf6929e-949d-4126-92c8-6b00b705810c",
   "metadata": {},
   "source": [
    "* this is first point\n",
    "* this is second point"
   ]
  },
  {
   "cell_type": "markdown",
   "id": "3b91a34d-2502-4614-9a4e-0cb7f4899120",
   "metadata": {},
   "source": [
    "1. This is third point\n",
    "2. This is fourth point"
   ]
  },
  {
   "cell_type": "code",
   "execution_count": 3,
   "id": "be4001b0-bbaf-4468-9123-98b53856fc85",
   "metadata": {},
   "outputs": [],
   "source": [
    "import os"
   ]
  },
  {
   "cell_type": "code",
   "execution_count": 4,
   "id": "14d43285-12f7-4029-aaab-5f49e3117876",
   "metadata": {},
   "outputs": [
    {
     "data": {
      "text/plain": [
       "'C:\\\\Users\\\\admin\\\\Desktop\\\\ML training\\\\day_7'"
      ]
     },
     "execution_count": 4,
     "metadata": {},
     "output_type": "execute_result"
    }
   ],
   "source": [
    "os.getcwd()"
   ]
  },
  {
   "cell_type": "code",
   "execution_count": 8,
   "id": "73ea2773-e432-49ed-a1f4-4a892562154e",
   "metadata": {},
   "outputs": [],
   "source": [
    "os.chdir('C:\\\\Users\\\\admin\\\\Desktop\\\\ML training\\\\Day1')"
   ]
  },
  {
   "cell_type": "code",
   "execution_count": 9,
   "id": "f9f53211-fe43-4b82-8464-af7e2ad0df54",
   "metadata": {},
   "outputs": [
    {
     "data": {
      "text/plain": [
       "'C:\\\\Users\\\\admin\\\\Desktop\\\\ML training\\\\Day1'"
      ]
     },
     "execution_count": 9,
     "metadata": {},
     "output_type": "execute_result"
    }
   ],
   "source": [
    "os.getcwd()"
   ]
  },
  {
   "cell_type": "code",
   "execution_count": 10,
   "id": "838f3df9-15c3-4513-8904-025a454b4347",
   "metadata": {},
   "outputs": [
    {
     "data": {
      "text/plain": [
       "['.ipynb_checkpoints',\n",
       " '16-09 day 4.2.py',\n",
       " '16-09 day4.py',\n",
       " '17-09 day5.py',\n",
       " 'Day1',\n",
       " 'day_7',\n",
       " 'Notes ML.docx']"
      ]
     },
     "execution_count": 10,
     "metadata": {},
     "output_type": "execute_result"
    }
   ],
   "source": [
    "os.listdir('C:\\\\Users\\\\admin\\\\Desktop\\\\ML training')"
   ]
  },
  {
   "cell_type": "code",
   "execution_count": 11,
   "id": "b3e74bd4-c045-4a2a-b23a-6e4ca8f16192",
   "metadata": {},
   "outputs": [],
   "source": [
    "#to make an empty folder\n",
    "os.mkdir('empty_folder')"
   ]
  },
  {
   "cell_type": "code",
   "execution_count": 13,
   "id": "5a9d44b5-94d3-43f4-a39a-2d807e563d27",
   "metadata": {},
   "outputs": [
    {
     "data": {
      "text/plain": [
       "['empty_folder', 'pr01.py', 'pro1.txt.txt']"
      ]
     },
     "execution_count": 13,
     "metadata": {},
     "output_type": "execute_result"
    }
   ],
   "source": [
    "os.listdir('C:\\\\Users\\\\admin\\\\Desktop\\\\ML training\\\\Day1')"
   ]
  },
  {
   "cell_type": "code",
   "execution_count": 14,
   "id": "21340776-a3e2-408c-8d05-8c54e5103ebc",
   "metadata": {},
   "outputs": [],
   "source": [
    "#to remove an empty folder\n",
    "os.rmdir('empty_folder')"
   ]
  },
  {
   "cell_type": "code",
   "execution_count": 15,
   "id": "43baeee3-5110-4e4b-8326-8ba202fbefef",
   "metadata": {},
   "outputs": [],
   "source": [
    "import random"
   ]
  },
  {
   "cell_type": "code",
   "execution_count": 16,
   "id": "a47a5db3-8e6e-4c88-9d70-431aa4d94121",
   "metadata": {},
   "outputs": [
    {
     "name": "stdout",
     "output_type": "stream",
     "text": [
      "0.99075389735663\n"
     ]
    }
   ],
   "source": [
    "val = random.random()\n",
    "print(val)"
   ]
  },
  {
   "cell_type": "code",
   "execution_count": 22,
   "id": "66dc0411-4a8f-47b2-a341-bcf830e6bb6f",
   "metadata": {},
   "outputs": [
    {
     "name": "stdout",
     "output_type": "stream",
     "text": [
      "8\n"
     ]
    }
   ],
   "source": [
    "val2 = random.randint(1,10)\n",
    "print(val2)"
   ]
  },
  {
   "cell_type": "markdown",
   "id": "43cb57c9-5ab7-4f33-8c12-650f1a1506c8",
   "metadata": {},
   "source": [
    "m = ['hi','hello',;hayy','howdy']\n",
    "val= random.choice(m)\n",
    "print(val)"
   ]
  },
  {
   "cell_type": "code",
   "execution_count": 28,
   "id": "9aa6d67a-f607-48f4-898f-4cad64af38b0",
   "metadata": {},
   "outputs": [
    {
     "name": "stdout",
     "output_type": "stream",
     "text": [
      "howdy\n"
     ]
    }
   ],
   "source": [
    "m = ['hi','hello','hayy','howdy'] \n",
    "val= random.choice(m) \n",
    "print(val)"
   ]
  },
  {
   "cell_type": "code",
   "execution_count": 30,
   "id": "2d987534-9956-46fd-91b9-965602b5b758",
   "metadata": {},
   "outputs": [
    {
     "name": "stdout",
     "output_type": "stream",
     "text": [
      "['hayy', 'hi']\n"
     ]
    }
   ],
   "source": [
    "m = ['hi','hello','hayy','howdy'] \n",
    "val= random.choices(m,k=2) \n",
    "print(val)"
   ]
  },
  {
   "cell_type": "code",
   "execution_count": 31,
   "id": "d34954aa-052c-413e-8c0e-8886c168a291",
   "metadata": {},
   "outputs": [
    {
     "name": "stdout",
     "output_type": "stream",
     "text": [
      "['hi', 'hayy', 'hello', 'howdy']\n"
     ]
    }
   ],
   "source": [
    "#Shuffle\n",
    "random.shuffle(m)\n",
    "print(m)"
   ]
  },
  {
   "cell_type": "code",
   "execution_count": 1,
   "id": "923c8689-e0bd-44db-a95d-b7e0c94596e5",
   "metadata": {},
   "outputs": [],
   "source": [
    "import numpy as np"
   ]
  },
  {
   "cell_type": "code",
   "execution_count": null,
   "id": "6b98c63d-a2fe-43a1-92eb-5f710cfbe88a",
   "metadata": {},
   "outputs": [],
   "source": []
  }
 ],
 "metadata": {
  "kernelspec": {
   "display_name": "Python 3 (ipykernel)",
   "language": "python",
   "name": "python3"
  },
  "language_info": {
   "codemirror_mode": {
    "name": "ipython",
    "version": 3
   },
   "file_extension": ".py",
   "mimetype": "text/x-python",
   "name": "python",
   "nbconvert_exporter": "python",
   "pygments_lexer": "ipython3",
   "version": "3.9.12"
  }
 },
 "nbformat": 4,
 "nbformat_minor": 5
}
